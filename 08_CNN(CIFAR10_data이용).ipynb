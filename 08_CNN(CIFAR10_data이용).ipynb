{
  "nbformat": 4,
  "nbformat_minor": 0,
  "metadata": {
    "colab": {
      "name": "08_CNN(CIFAR10_data이용).ipynb",
      "provenance": [],
      "collapsed_sections": []
    },
    "kernelspec": {
      "name": "python3",
      "display_name": "Python 3"
    },
    "language_info": {
      "name": "python"
    },
    "accelerator": "GPU"
  },
  "cells": [
    {
      "cell_type": "markdown",
      "source": [
        "# CNN 코드"
      ],
      "metadata": {
        "id": "z9j37MfqMTnF"
      }
    },
    {
      "cell_type": "code",
      "source": [
        "import numpy as np\n",
        "import pandas as pd\n",
        "import matplotlib.pyplot as plt\n",
        "\n",
        "import tensorflow as tf\n",
        "from tensorflow import keras\n",
        "from tensorflow.keras import optimizers\n",
        "from tensorflow.keras.layers import Dense, Input, Flatten, Conv2D, MaxPooling2D, BatchNormalization, Reshape\n",
        "\n",
        "import time"
      ],
      "metadata": {
        "id": "EPNtJxE5MXRK"
      },
      "execution_count": 1,
      "outputs": []
    },
    {
      "cell_type": "code",
      "source": [
        "# MNIST data\n",
        "\n",
        "(raw_train_x, raw_train_y), (raw_test_x, raw_test_y) = tf.keras.datasets.mnist.load_data()\n",
        "\n",
        "train_x = raw_train_x/255.\n",
        "test_x = raw_test_x/255.\n",
        "\n",
        "train_y = raw_train_y\n",
        "test_y = raw_test_y"
      ],
      "metadata": {
        "colab": {
          "base_uri": "https://localhost:8080/"
        },
        "id": "HdBTiE5kMXnk",
        "outputId": "56c1ced5-a67a-48eb-dd9c-f71a47f6025f"
      },
      "execution_count": 2,
      "outputs": [
        {
          "output_type": "stream",
          "name": "stdout",
          "text": [
            "Downloading data from https://storage.googleapis.com/tensorflow/tf-keras-datasets/mnist.npz\n",
            "11493376/11490434 [==============================] - 0s 0us/step\n",
            "11501568/11490434 [==============================] - 0s 0us/step\n"
          ]
        }
      ]
    },
    {
      "cell_type": "code",
      "source": [
        "# CNN 모델\n",
        "model = keras.Sequential()\n",
        "model.add(Input((28,28)))\n",
        "model.add(Reshape((28,28,1)))\n",
        "model.add(Conv2D(32, (3, 3), padding='same'))\n",
        "model.add(MaxPooling2D((2, 2)))\n",
        "model.add(Conv2D(64, (3, 3), padding='same'))\n",
        "model.add(MaxPooling2D((2, 2)))\n",
        "model.add(Flatten())\n",
        "model.add(Dense(10, activation='relu'))\n",
        "model.add(Dense(10, activation='relu'))\n",
        "model.add(Dense(10, activation='softmax'))\n",
        "\n",
        "model.compile(optimizer=\"adam\", loss=\"sparse_categorical_crossentropy\", metrics=[\"accuracy\"])\n",
        "model.summary()\n",
        "\n",
        "\n",
        "# 학습\n",
        "model.fit(train_x, train_y, epochs=5, verbose=1, batch_size=128)\n",
        "\n",
        "\n",
        "loss, acc = model.evaluate(test_x, test_y)\n",
        "print(\"loss=\",loss)\n",
        "print(\"acc=\",acc)\n",
        "\n",
        "# 예측\n",
        "y_ = model.predict(test_x)\n",
        "predicted = np.argmax(y_, axis=1)\n",
        "\n",
        "print(predicted)"
      ],
      "metadata": {
        "colab": {
          "base_uri": "https://localhost:8080/"
        },
        "id": "5EUbHOSNMXlW",
        "outputId": "98d4677c-4a55-490e-aeba-6cb0e0215808"
      },
      "execution_count": 3,
      "outputs": [
        {
          "output_type": "stream",
          "name": "stdout",
          "text": [
            "Model: \"sequential\"\n",
            "_________________________________________________________________\n",
            " Layer (type)                Output Shape              Param #   \n",
            "=================================================================\n",
            " reshape (Reshape)           (None, 28, 28, 1)         0         \n",
            "                                                                 \n",
            " conv2d (Conv2D)             (None, 28, 28, 32)        320       \n",
            "                                                                 \n",
            " max_pooling2d (MaxPooling2D  (None, 14, 14, 32)       0         \n",
            " )                                                               \n",
            "                                                                 \n",
            " conv2d_1 (Conv2D)           (None, 14, 14, 64)        18496     \n",
            "                                                                 \n",
            " max_pooling2d_1 (MaxPooling  (None, 7, 7, 64)         0         \n",
            " 2D)                                                             \n",
            "                                                                 \n",
            " flatten (Flatten)           (None, 3136)              0         \n",
            "                                                                 \n",
            " dense (Dense)               (None, 10)                31370     \n",
            "                                                                 \n",
            " dense_1 (Dense)             (None, 10)                110       \n",
            "                                                                 \n",
            " dense_2 (Dense)             (None, 10)                110       \n",
            "                                                                 \n",
            "=================================================================\n",
            "Total params: 50,406\n",
            "Trainable params: 50,406\n",
            "Non-trainable params: 0\n",
            "_________________________________________________________________\n",
            "Epoch 1/5\n",
            "469/469 [==============================] - 11s 4ms/step - loss: 0.4861 - accuracy: 0.8551\n",
            "Epoch 2/5\n",
            "469/469 [==============================] - 2s 4ms/step - loss: 0.1386 - accuracy: 0.9599\n",
            "Epoch 3/5\n",
            "469/469 [==============================] - 2s 4ms/step - loss: 0.0923 - accuracy: 0.9732\n",
            "Epoch 4/5\n",
            "469/469 [==============================] - 2s 4ms/step - loss: 0.0710 - accuracy: 0.9785\n",
            "Epoch 5/5\n",
            "469/469 [==============================] - 2s 4ms/step - loss: 0.0581 - accuracy: 0.9818\n",
            "313/313 [==============================] - 1s 3ms/step - loss: 0.0716 - accuracy: 0.9795\n",
            "loss= 0.07158549875020981\n",
            "acc= 0.9794999957084656\n",
            "[7 2 1 ... 4 5 6]\n"
          ]
        }
      ]
    },
    {
      "cell_type": "code",
      "source": [
        ""
      ],
      "metadata": {
        "id": "pOC77q6AMXTY"
      },
      "execution_count": 3,
      "outputs": []
    },
    {
      "cell_type": "markdown",
      "source": [
        "# CIFAR10 적용\n",
        "\n",
        "- CIFAR-10 dataset은 32x32픽셀의 60000개 컬러이미지가 포함되어있으며, 각 이미지는 10개의 클래스로 라벨링이 되어있음.\n",
        "\n",
        "- MNIST와 같이 머신러닝 연구에 가장 널리 사용되는 dataset중 하나\n",
        "\n",
        "refered https://www.cs.toronto.edu/~kriz/cifar.html"
      ],
      "metadata": {
        "id": "2TxjyMv2L6iQ"
      }
    },
    {
      "cell_type": "code",
      "execution_count": 4,
      "metadata": {
        "id": "G40KQ2xHL4s4"
      },
      "outputs": [],
      "source": [
        "import numpy as np\n",
        "import matplotlib.pyplot as plt\n",
        "\n",
        "import tensorflow as tf\n",
        "from tensorflow import keras\n",
        "from tensorflow.keras import optimizers\n",
        "from tensorflow.keras.layers import Dense, Flatten, Conv2D, MaxPooling2D, BatchNormalization, Input, Reshape\n",
        "\n",
        "import time"
      ]
    },
    {
      "cell_type": "code",
      "source": [
        "(raw_train_x, raw_train_y), (raw_test_x, raw_test_y) = tf.keras.datasets.cifar10.load_data()\n",
        "\n",
        "print(raw_train_x.shape)\n",
        "print(raw_train_y.shape)\n",
        "print(raw_test_x.shape)\n",
        "print(raw_test_y.shape)\n",
        "\n",
        "# 표준화\n",
        "train_x = raw_train_x/255.\n",
        "test_x = raw_test_x/255.\n",
        "\n",
        "train_y = raw_train_y\n",
        "test_y = raw_test_y"
      ],
      "metadata": {
        "colab": {
          "base_uri": "https://localhost:8080/"
        },
        "id": "4ebTJI1eOC5X",
        "outputId": "ce63dcdc-a810-4e5d-c473-dae2086c5005"
      },
      "execution_count": 5,
      "outputs": [
        {
          "output_type": "stream",
          "name": "stdout",
          "text": [
            "Downloading data from https://www.cs.toronto.edu/~kriz/cifar-10-python.tar.gz\n",
            "170500096/170498071 [==============================] - 6s 0us/step\n",
            "170508288/170498071 [==============================] - 6s 0us/step\n",
            "(50000, 32, 32, 3)\n",
            "(50000, 1)\n",
            "(10000, 32, 32, 3)\n",
            "(10000, 1)\n"
          ]
        }
      ]
    },
    {
      "cell_type": "code",
      "source": [
        "print(raw_train_x[0])"
      ],
      "metadata": {
        "colab": {
          "base_uri": "https://localhost:8080/"
        },
        "id": "gWzQzDSdOC2z",
        "outputId": "d3657765-6858-4df5-95ee-882e5913ac20"
      },
      "execution_count": 6,
      "outputs": [
        {
          "output_type": "stream",
          "name": "stdout",
          "text": [
            "[[[ 59  62  63]\n",
            "  [ 43  46  45]\n",
            "  [ 50  48  43]\n",
            "  ...\n",
            "  [158 132 108]\n",
            "  [152 125 102]\n",
            "  [148 124 103]]\n",
            "\n",
            " [[ 16  20  20]\n",
            "  [  0   0   0]\n",
            "  [ 18   8   0]\n",
            "  ...\n",
            "  [123  88  55]\n",
            "  [119  83  50]\n",
            "  [122  87  57]]\n",
            "\n",
            " [[ 25  24  21]\n",
            "  [ 16   7   0]\n",
            "  [ 49  27   8]\n",
            "  ...\n",
            "  [118  84  50]\n",
            "  [120  84  50]\n",
            "  [109  73  42]]\n",
            "\n",
            " ...\n",
            "\n",
            " [[208 170  96]\n",
            "  [201 153  34]\n",
            "  [198 161  26]\n",
            "  ...\n",
            "  [160 133  70]\n",
            "  [ 56  31   7]\n",
            "  [ 53  34  20]]\n",
            "\n",
            " [[180 139  96]\n",
            "  [173 123  42]\n",
            "  [186 144  30]\n",
            "  ...\n",
            "  [184 148  94]\n",
            "  [ 97  62  34]\n",
            "  [ 83  53  34]]\n",
            "\n",
            " [[177 144 116]\n",
            "  [168 129  94]\n",
            "  [179 142  87]\n",
            "  ...\n",
            "  [216 184 140]\n",
            "  [151 118  84]\n",
            "  [123  92  72]]]\n"
          ]
        }
      ]
    },
    {
      "cell_type": "code",
      "source": [
        "labels = [\"airplane\", \"automobile\", \"bird\", \"cat\", \"deer\", \"dog\", \"frog\", \"horse\", \"ship\", \"truck\"]\n",
        "\n",
        "def show_sample(i):\n",
        "  print(raw_train_y[i][0], labels[raw_train_y[i][0]])\n",
        "  plt.imshow(raw_train_x[i])\n",
        "  plt.show()\n",
        "\n",
        "for i in [2, 10, 12, 14]:\n",
        "  show_sample(i)"
      ],
      "metadata": {
        "colab": {
          "base_uri": "https://localhost:8080/",
          "height": 1000
        },
        "id": "DIXPYq64OCz2",
        "outputId": "7dc4117b-4b42-40c6-fd53-d1eb9411506d"
      },
      "execution_count": 7,
      "outputs": [
        {
          "output_type": "stream",
          "name": "stdout",
          "text": [
            "9 truck\n"
          ]
        },
        {
          "output_type": "display_data",
          "data": {
            "image/png": "[encoded data removed]",
            "text/plain": [
              "<Figure size 432x288 with 1 Axes>"
            ]
          },
          "metadata": {
            "needs_background": "light"
          }
        },
        {
          "output_type": "stream",
          "name": "stdout",
          "text": [
            "4 deer\n"
          ]
        },
        {
          "output_type": "display_data",
          "data": {
            "image/png": "[encoded data removed]",
            "text/plain": [
              "<Figure size 432x288 with 1 Axes>"
            ]
          },
          "metadata": {
            "needs_background": "light"
          }
        },
        {
          "output_type": "stream",
          "name": "stdout",
          "text": [
            "7 horse\n"
          ]
        },
        {
          "output_type": "display_data",
          "data": {
            "image/png": "[encoded data removed]",
            "text/plain": [
              "<Figure size 432x288 with 1 Axes>"
            ]
          },
          "metadata": {
            "needs_background": "light"
          }
        },
        {
          "output_type": "stream",
          "name": "stdout",
          "text": [
            "9 truck\n"
          ]
        },
        {
          "output_type": "display_data",
          "data": {
            "image/png": "[encoded data removed]",
            "text/plain": [
              "<Figure size 432x288 with 1 Axes>"
            ]
          },
          "metadata": {
            "needs_background": "light"
          }
        }
      ]
    },
    {
      "cell_type": "code",
      "source": [
        "# CNN 모델\n",
        "model = keras.Sequential()\n",
        "# model.add(Input((28,28)))\n",
        "model.add(Input((32,32,3)))    # CHANGE <--------------------\n",
        "# model.add(Reshape((28,28,1)))    # OUT <--------------------\n",
        "model.add(Conv2D(32, (3, 3), padding='same'))\n",
        "model.add(MaxPooling2D((2, 2)))\n",
        "model.add(Conv2D(64, (3, 3), padding='same'))\n",
        "model.add(MaxPooling2D((2, 2)))\n",
        "model.add(Flatten())\n",
        "model.add(Dense(10, activation='relu'))\n",
        "model.add(Dense(10, activation='relu'))\n",
        "model.add(Dense(10, activation='softmax'))\n",
        "\n",
        "model.compile(optimizer=\"adam\", loss=\"sparse_categorical_crossentropy\", metrics=[\"accuracy\"])\n",
        "model.summary()\n",
        "\n",
        "# 모델 학습\n",
        "model.fit(train_x, train_y, epochs=5, verbose=1, batch_size=128)\n",
        "\n",
        "\n",
        "loss, acc = model.evaluate(test_x, test_y)\n",
        "print(\"loss=\",loss)\n",
        "print(\"acc=\",acc)\n",
        "\n",
        "# 예측\n",
        "y_ = model.predict(test_x)\n",
        "predicted = np.argmax(y_, axis=1)\n",
        "\n",
        "print(predicted)"
      ],
      "metadata": {
        "colab": {
          "base_uri": "https://localhost:8080/"
        },
        "id": "UTDKPPzPOCw-",
        "outputId": "b42ba49c-f684-4eb2-8c3b-4b0874303660"
      },
      "execution_count": 8,
      "outputs": [
        {
          "output_type": "stream",
          "name": "stdout",
          "text": [
            "Model: \"sequential_1\"\n",
            "_________________________________________________________________\n",
            " Layer (type)                Output Shape              Param #   \n",
            "=================================================================\n",
            " conv2d_2 (Conv2D)           (None, 32, 32, 32)        896       \n",
            "                                                                 \n",
            " max_pooling2d_2 (MaxPooling  (None, 16, 16, 32)       0         \n",
            " 2D)                                                             \n",
            "                                                                 \n",
            " conv2d_3 (Conv2D)           (None, 16, 16, 64)        18496     \n",
            "                                                                 \n",
            " max_pooling2d_3 (MaxPooling  (None, 8, 8, 64)         0         \n",
            " 2D)                                                             \n",
            "                                                                 \n",
            " flatten_1 (Flatten)         (None, 4096)              0         \n",
            "                                                                 \n",
            " dense_3 (Dense)             (None, 10)                40970     \n",
            "                                                                 \n",
            " dense_4 (Dense)             (None, 10)                110       \n",
            "                                                                 \n",
            " dense_5 (Dense)             (None, 10)                110       \n",
            "                                                                 \n",
            "=================================================================\n",
            "Total params: 60,582\n",
            "Trainable params: 60,582\n",
            "Non-trainable params: 0\n",
            "_________________________________________________________________\n",
            "Epoch 1/5\n",
            "391/391 [==============================] - 2s 5ms/step - loss: 1.8635 - accuracy: 0.3024\n",
            "Epoch 2/5\n",
            "391/391 [==============================] - 2s 5ms/step - loss: 1.4709 - accuracy: 0.4549\n",
            "Epoch 3/5\n",
            "391/391 [==============================] - 2s 5ms/step - loss: 1.2791 - accuracy: 0.5350\n",
            "Epoch 4/5\n",
            "391/391 [==============================] - 2s 5ms/step - loss: 1.1870 - accuracy: 0.5737\n",
            "Epoch 5/5\n",
            "391/391 [==============================] - 2s 5ms/step - loss: 1.1341 - accuracy: 0.5945\n",
            "313/313 [==============================] - 1s 3ms/step - loss: 1.1431 - accuracy: 0.5949\n",
            "loss= 1.1430670022964478\n",
            "acc= 0.5949000120162964\n",
            "[3 1 8 ... 5 1 7]\n"
          ]
        }
      ]
    },
    {
      "cell_type": "markdown",
      "source": [
        "# CallBack 이용"
      ],
      "metadata": {
        "id": "Fls7Fem3O_wz"
      }
    },
    {
      "cell_type": "code",
      "source": [
        "import numpy as np\n",
        "import pandas as pd\n",
        "import matplotlib.pyplot as plt\n",
        "\n",
        "\n",
        "import tensorflow as tf\n",
        "from tensorflow import keras\n",
        "from tensorflow.keras import optimizers\n",
        "from tensorflow.keras.layers import Dense\n",
        "from tensorflow.keras.callbacks import Callback\n",
        "from tensorflow.keras.layers import Dense, Flatten, Conv2D, MaxPooling2D, BatchNormalization, Input, Reshape\n",
        "\n",
        "import time"
      ],
      "metadata": {
        "id": "Roqx-gArPDnf"
      },
      "execution_count": 9,
      "outputs": []
    },
    {
      "cell_type": "code",
      "source": [
        "(raw_train_x, raw_train_y), (raw_test_x, raw_test_y) = tf.keras.datasets.cifar10.load_data()\n",
        "\n",
        "print(raw_train_x.shape)\n",
        "print(raw_train_y.shape)\n",
        "print(raw_test_x.shape)\n",
        "print(raw_test_y.shape)\n",
        "\n",
        "\n",
        "train_x = raw_train_x/255.\n",
        "test_x = raw_test_x/255.\n",
        "\n",
        "train_y = raw_train_y\n",
        "test_y = raw_test_y"
      ],
      "metadata": {
        "colab": {
          "base_uri": "https://localhost:8080/"
        },
        "id": "pLoMeCphPFaK",
        "outputId": "1d917583-cef2-43d8-b69d-1509aad382d2"
      },
      "execution_count": 10,
      "outputs": [
        {
          "output_type": "stream",
          "name": "stdout",
          "text": [
            "(50000, 32, 32, 3)\n",
            "(50000, 1)\n",
            "(10000, 32, 32, 3)\n",
            "(10000, 1)\n"
          ]
        }
      ]
    },
    {
      "cell_type": "code",
      "source": [
        "labels = [\"airplane\", \"automobile\", \"bird\", \"cat\", \"deer\", \"dog\", \"frog\", \"horse\", \"ship\", \"truck\"]\n",
        "\n",
        "def show_sample(i):\n",
        "  print(raw_train_y[i][0], labels[raw_train_y[i][0]])\n",
        "  plt.imshow(raw_train_x[i])\n",
        "  plt.show()\n",
        "\n",
        "for i in [2, 10, 12, 14]:\n",
        "  show_sample(i)"
      ],
      "metadata": {
        "colab": {
          "base_uri": "https://localhost:8080/",
          "height": 1000
        },
        "id": "dFN_H-hJPFWU",
        "outputId": "ce42af56-5951-42b7-9054-c84de46ce399"
      },
      "execution_count": 11,
      "outputs": [
        {
          "output_type": "stream",
          "name": "stdout",
          "text": [
            "9 truck\n"
          ]
        },
        {
          "output_type": "display_data",
          "data": {
            "image/png": "[encoded data removed]",
            "text/plain": [
              "<Figure size 432x288 with 1 Axes>"
            ]
          },
          "metadata": {
            "needs_background": "light"
          }
        },
        {
          "output_type": "stream",
          "name": "stdout",
          "text": [
            "4 deer\n"
          ]
        },
        {
          "output_type": "display_data",
          "data": {
            "image/png": "[encoded data removed]",
            "text/plain": [
              "<Figure size 432x288 with 1 Axes>"
            ]
          },
          "metadata": {
            "needs_background": "light"
          }
        },
        {
          "output_type": "stream",
          "name": "stdout",
          "text": [
            "7 horse\n"
          ]
        },
        {
          "output_type": "display_data",
          "data": {
            "image/png": "[encoded data removed]",
            "text/plain": [
              "<Figure size 432x288 with 1 Axes>"
            ]
          },
          "metadata": {
            "needs_background": "light"
          }
        },
        {
          "output_type": "stream",
          "name": "stdout",
          "text": [
            "9 truck\n"
          ]
        },
        {
          "output_type": "display_data",
          "data": {
            "image/png": "[encoded data removed]",
            "text/plain": [
              "<Figure size 432x288 with 1 Axes>"
            ]
          },
          "metadata": {
            "needs_background": "light"
          }
        }
      ]
    },
    {
      "cell_type": "code",
      "source": [
        "from IPython.display import clear_output\n",
        "from tensorflow.keras.callbacks import Callback\n",
        "\n",
        "class PlotLosses(Callback):\n",
        "\n",
        "  def on_train_begin(self, logs={}):\n",
        "\n",
        "    self.i = 0\n",
        "    self.x = []\n",
        "    self.losses = []\n",
        "    self.val_losses = []\n",
        "\n",
        "    self.fig = plt.figure()\n",
        "\n",
        "    self.logs = []\n",
        "\n",
        "\n",
        "  def on_epoch_end(self, epoch, logs={}):\n",
        "\n",
        "    self.logs.append(logs)\n",
        "    self.x.append(self.i)\n",
        "    self.losses.append(logs.get('loss'))\n",
        "    self.val_losses.append(logs.get('val_loss'))\n",
        "    self.i += 1\n",
        "\n",
        "    clear_output(wait=True)\n",
        "    plt.plot(self.x, self.losses, label=\"loss\")\n",
        "    plt.plot(self.x, self.val_losses, label=\"val_loss\")\n",
        "    plt.legend()\n",
        "    plt.show();\n",
        "    print(\"loss = \", self.losses[-1], \", val_loss = \", self.val_losses[-1])"
      ],
      "metadata": {
        "id": "SE03djGzPFS0"
      },
      "execution_count": 12,
      "outputs": []
    },
    {
      "cell_type": "code",
      "source": [
        "model = keras.Sequential()\n",
        "model.add(Input((32,32,3)))\n",
        "model.add(Conv2D(32, (3, 3), padding='same'))\n",
        "model.add(MaxPooling2D((2, 2)))\n",
        "model.add(Conv2D(64, (3, 3), padding='same'))\n",
        "model.add(MaxPooling2D((2, 2)))\n",
        "model.add(Flatten())\n",
        "model.add(Dense(10, activation='relu'))\n",
        "model.add(Dense(10, activation='relu'))\n",
        "model.add(Dense(10, activation='softmax'))\n",
        "\n",
        "model.compile(optimizer=\"adam\", loss=\"sparse_categorical_crossentropy\", metrics=[\"accuracy\"])\n",
        "model.summary()\n",
        "\n",
        "plot_losses = PlotLosses()\n",
        "model.fit(train_x, train_y, epochs=1000, verbose=0, batch_size=20, validation_split=0.1, \n",
        "          callbacks=[plot_losses])\n",
        "\n",
        "\n",
        "loss, acc = model.evaluate(test_x, test_y)\n",
        "print(\"loss=\",loss)\n",
        "print(\"acc=\",acc)\n",
        "\n",
        "y_ = model.predict(test_x)\n",
        "predicted = np.argmax(y_, axis=1)\n",
        "\n",
        "print(predicted)\n"
      ],
      "metadata": {
        "colab": {
          "base_uri": "https://localhost:8080/",
          "height": 356
        },
        "id": "kydUUvKjPKe6",
        "outputId": "6cc39267-5743-45e4-83a7-f04f69565e39"
      },
      "execution_count": 13,
      "outputs": [
        {
          "output_type": "display_data",
          "data": {
            "image/png": "[encoded data removed]",
            "text/plain": [
              "<Figure size 432x288 with 1 Axes>"
            ]
          },
          "metadata": {
            "needs_background": "light"
          }
        },
        {
          "output_type": "stream",
          "name": "stdout",
          "text": [
            "loss =  0.05998445674777031 , val_loss =  13.740263938903809\n",
            "313/313 [==============================] - 1s 3ms/step - loss: 14.3256 - accuracy: 0.5571\n",
            "loss= 14.325599670410156\n",
            "acc= 0.5570999979972839\n",
            "[5 8 0 ... 5 4 7]\n"
          ]
        }
      ]
    },
    {
      "cell_type": "markdown",
      "source": [
        "![image.png](data:image/png;base64,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)\n",
        "\n",
        "과적합."
      ],
      "metadata": {
        "id": "7D5mKBtryphe"
      }
    }
  ]
}