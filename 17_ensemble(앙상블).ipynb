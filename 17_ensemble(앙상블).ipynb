{
  "nbformat": 4,
  "nbformat_minor": 0,
  "metadata": {
    "colab": {
      "name": "17_ensemble.ipynb",
      "provenance": [],
      "collapsed_sections": []
    },
    "kernelspec": {
      "name": "python3",
      "display_name": "Python 3"
    },
    "accelerator": "GPU"
  },
  "cells": [
    {
      "cell_type": "markdown",
      "source": [
        "# 앙상블(머신러닝)\n",
        "```\n",
        "앙상블 학습은 여러 개의 분류기를 생성하고, 그 예측을 결합함으로써 보다 정확한 예측을 도출하는 기법\n",
        "\n",
        "강력한 하나의 모델을 사용하는 대신 보다 약한 모델을 여러 개를 조합하여 더 정확한 예측에 도움을 주는 방식\n",
        "```"
      ],
      "metadata": {
        "id": "3zipGUA9yh4u"
      }
    },
    {
      "cell_type": "markdown",
      "source": [
        "# 앙상블 학습 유형\n",
        "```\n",
        "- 보팅(Voting)\n",
        "여러 개의 분류기가 투표를 통해 최종 예측 결과를 결정하는 방식\n",
        "서로 다른 알고리즘을 여러 개 결합\n",
        "하드 보팅과 소프트 보팅으로 나뉨\n",
        "하드 보팅 : 다수의 분류기가 예측한 결과값을 최종 결과로 선정\n",
        "소프트 보팅 :  모든 분류기가 예측한 레이블 값의 결정 확률 평균을 구한 뒤 가장 확률이 높은 레이블 값을 최종 결과로 선정\n",
        "\n",
        "- 배깅(Bagging)\n",
        "데이터 샘플링(Bootstrap)을 통해 모델을 학습시키고 결과를 집계하는 방법\n",
        "모두 같은 유형의 알고리즘 기반의 분류기를 사용\n",
        "데이터 분할시 중복을 허용\n",
        "범주형(categorical) 데이터 : 다수결 투표 방식으로 결과 집계\n",
        "연속형(continuous) 데이터 : 평균값 집계\n",
        "과적합방지에 효과적\n",
        "대표적이 배깅 방식 : 랜덤 포레스트 알고리즘\n",
        "\n",
        "- 부스팅(Boosting)\n",
        "여러 개의 분류기가 순차적으로 학습을 수행\n",
        "이전 분류기가 예측이 틀린 데이터에 대해 올바르게 예측할 수 있도록 다음 분류기에 가중치를 부여하면서 학습과 예측을 진행\n",
        "계속 분류기에 가중치를 부스팅하며 학습을 진행하기에 부스팅 방식이라고 불림\n",
        "예측 성능이 뛰어나 앙상블 학습을 주도\n",
        "대표적 부스팅 모듈 :  XGBoost, LightGBM\n",
        "보통 부스팅 방식은 배깅에 비해 성능이 좋지만, 속도가 느리고 과적합 발생할 가능성이 존재\n",
        "```"
      ],
      "metadata": {
        "id": "Zhy6pwm2y1U-"
      }
    },
    {
      "cell_type": "markdown",
      "metadata": {
        "id": "cHcZ3XNF2qkV"
      },
      "source": [
        "# 모델 앙상블"
      ]
    },
    {
      "cell_type": "code",
      "metadata": {
        "id": "vP9m1uS2fxj1"
      },
      "source": [
        "import numpy as np\n",
        "import pandas as pd\n",
        "import matplotlib.pyplot as plt\n",
        "\n",
        "import tensorflow as tf\n",
        "from tensorflow import keras\n",
        "from tensorflow.keras import optimizers\n",
        "from tensorflow.keras.layers import Dense, Flatten, Conv2D, MaxPooling2D, Input, Reshape\n",
        "\n",
        "import time"
      ],
      "execution_count": 1,
      "outputs": []
    },
    {
      "cell_type": "markdown",
      "source": [
        "# 회귀 문제"
      ],
      "metadata": {
        "id": "ZOi5p_5IPnsW"
      }
    },
    {
      "cell_type": "code",
      "source": [
        "x = np.arange(-1, 1, 0.01)\n",
        "np.random.shuffle(x)\n",
        "y = np.sin(x)\n",
        "\n",
        "i = int(x.shape[0]*0.8)\n",
        "\n",
        "train_x, test_x = x[:i], x[i:]\n",
        "train_y, test_y = y[:i], y[i:]\n"
      ],
      "metadata": {
        "id": "qlmHyE3yoB78"
      },
      "execution_count": 2,
      "outputs": []
    },
    {
      "cell_type": "code",
      "source": [
        "def build_model():  \n",
        "  model = keras.Sequential()\n",
        "  model.add(Input((1,)))\n",
        "  model.add(Dense(10, activation='relu'))\n",
        "  model.add(Dense(10, activation='relu'))\n",
        "  model.add(Dense(1))\n",
        "\n",
        "  model.compile(optimizer=\"Adam\", loss=\"mse\")\n",
        "\n",
        "  return model"
      ],
      "metadata": {
        "id": "Gt6Fyj6Foqqs"
      },
      "execution_count": 3,
      "outputs": []
    },
    {
      "cell_type": "code",
      "source": [
        "n_members = 3"
      ],
      "metadata": {
        "id": "foB2ZO4do4Ma"
      },
      "execution_count": 4,
      "outputs": []
    },
    {
      "cell_type": "code",
      "source": [
        "def build_model_A():\n",
        "  model = keras.Sequential()\n",
        "  model.add(Input((1,)))\n",
        "  model.add(Dense(10, activation='relu'))\n",
        "  model.add(Dense(10, activation='relu'))\n",
        "  model.add(Dense(1))\n",
        "\n",
        "  model.compile(optimizer=\"Adam\", loss=\"mse\")\n",
        "  return model\n",
        "\n",
        "def build_model_B():\n",
        "  model = keras.Sequential()\n",
        "  model.add(Input((1,)))\n",
        "  model.add(Dense(5, activation='relu'))\n",
        "  model.add(Dense(5, activation='relu'))\n",
        "  model.add(Dense(1))\n",
        "\n",
        "  model.compile(optimizer=\"Adam\", loss=\"mse\")\n",
        "  return model\n",
        "  \n",
        "def build_model_C():\n",
        "  model = keras.Sequential()\n",
        "  model.add(Input((1,)))\n",
        "  model.add(Dense(3, activation='tanh'))\n",
        "  model.add(Dense(3, activation='tanh'))\n",
        "  model.add(Dense(1))\n",
        "\n",
        "  model.compile(optimizer=\"Adam\", loss=\"mse\")\n",
        "  return model  "
      ],
      "metadata": {
        "id": "30KjKMhsiDgo"
      },
      "execution_count": 5,
      "outputs": []
    },
    {
      "cell_type": "code",
      "source": [
        "models = []\n",
        "models.append(build_model_A())\n",
        "models.append(build_model_B())\n",
        "models.append(build_model_C())\n",
        "# for _ in range(n_members):\n",
        "# \tmodel = build_model()\n",
        "# \tmodels.append(model)"
      ],
      "metadata": {
        "id": "pGOI_eN6o4Ma"
      },
      "execution_count": 6,
      "outputs": []
    },
    {
      "cell_type": "code",
      "source": [
        "for i in range(len(models)):\n",
        "\tmodels[i].fit(train_x, train_y, epochs=1, batch_size=32)"
      ],
      "metadata": {
        "colab": {
          "base_uri": "https://localhost:8080/"
        },
        "id": "JCqPO0iZo957",
        "outputId": "dae4ea66-3a8b-4baa-d846-5ee680e271ff"
      },
      "execution_count": 7,
      "outputs": [
        {
          "output_type": "stream",
          "name": "stdout",
          "text": [
            "5/5 [==============================] - 2s 5ms/step - loss: 0.0820\n",
            "5/5 [==============================] - 0s 4ms/step - loss: 0.1330\n",
            "5/5 [==============================] - 0s 4ms/step - loss: 0.1027\n"
          ]
        }
      ]
    },
    {
      "cell_type": "markdown",
      "source": [
        "#### y_ = [model.predict(test_x) for model in models] 이해해 보기"
      ],
      "metadata": {
        "id": "Lm0hs9twkMie"
      }
    },
    {
      "cell_type": "code",
      "source": [
        "a = [0,1,2,3,4]\n",
        "\n",
        "b =[]\n",
        "for i in a:\n",
        "  b.append(i*2)\n",
        "\n",
        "b = [i*2 for i in a]\n",
        "\n",
        "print(b)\n",
        "\n",
        "y_ = []\n",
        "for model in models:\n",
        "  y_.append(model.predict(test_x))\n",
        "\n",
        "y_ = [model.predict(test_x) for model in models]\n",
        "print(y_)"
      ],
      "metadata": {
        "colab": {
          "base_uri": "https://localhost:8080/"
        },
        "id": "ZkN9x4MfjLpP",
        "outputId": "a7951158-317e-4fa3-b049-33c11dd17370"
      },
      "execution_count": 8,
      "outputs": [
        {
          "output_type": "stream",
          "name": "stdout",
          "text": [
            "[0, 2, 4, 6, 8]\n",
            "[array([[ 0.26438048],\n",
            "       [-0.14709385],\n",
            "       [ 0.3355059 ],\n",
            "       [-0.2826294 ],\n",
            "       [ 0.20580658],\n",
            "       [-0.2746567 ],\n",
            "       [ 0.32713822],\n",
            "       [-0.2945884 ],\n",
            "       [ 0.23090969],\n",
            "       [ 0.32295436],\n",
            "       [-0.1829709 ],\n",
            "       [-0.22682065],\n",
            "       [-0.23479334],\n",
            "       [-0.16702552],\n",
            "       [ 0.29366744],\n",
            "       [-0.13114847],\n",
            "       [ 0.31458664],\n",
            "       [-0.254725  ],\n",
            "       [-0.1152031 ],\n",
            "       [ 0.30203512],\n",
            "       [-0.01975177],\n",
            "       [ 0.31040284],\n",
            "       [ 0.40663132],\n",
            "       [ 0.28111586],\n",
            "       [ 0.29785123],\n",
            "       [-0.3663425 ],\n",
            "       [-0.39424694],\n",
            "       [-0.29857472],\n",
            "       [-0.3583699 ],\n",
            "       [ 0.3982636 ],\n",
            "       [-0.15108018],\n",
            "       [ 0.0164198 ],\n",
            "       [-0.2228343 ],\n",
            "       [-0.19492991],\n",
            "       [ 0.22672583],\n",
            "       [ 0.3564251 ],\n",
            "       [-0.31452012],\n",
            "       [ 0.18488736],\n",
            "       [-0.07533972],\n",
            "       [-0.13912115]], dtype=float32), array([[ 0.30000144],\n",
            "       [-0.04646055],\n",
            "       [ 0.38470042],\n",
            "       [-0.08291047],\n",
            "       [ 0.23024935],\n",
            "       [-0.08076636],\n",
            "       [ 0.37473583],\n",
            "       [-0.08612664],\n",
            "       [ 0.2601431 ],\n",
            "       [ 0.36975354],\n",
            "       [-0.05610906],\n",
            "       [-0.06790168],\n",
            "       [-0.0700458 ],\n",
            "       [-0.05182083],\n",
            "       [ 0.3348775 ],\n",
            "       [-0.04217232],\n",
            "       [ 0.35978898],\n",
            "       [-0.07540608],\n",
            "       [-0.0378841 ],\n",
            "       [ 0.34484208],\n",
            "       [-0.01299201],\n",
            "       [ 0.35480666],\n",
            "       [ 0.46939942],\n",
            "       [ 0.31993055],\n",
            "       [ 0.33985978],\n",
            "       [-0.10542367],\n",
            "       [-0.11292806],\n",
            "       [-0.0871987 ],\n",
            "       [-0.10327955],\n",
            "       [ 0.4594348 ],\n",
            "       [-0.0475326 ],\n",
            "       [ 0.00312444],\n",
            "       [-0.06682962],\n",
            "       [-0.05932523],\n",
            "       [ 0.25516078],\n",
            "       [ 0.4096119 ],\n",
            "       [-0.09148693],\n",
            "       [ 0.20533788],\n",
            "       [-0.02716353],\n",
            "       [-0.04431644]], dtype=float32), array([[ 0.2211609 ],\n",
            "       [-0.11643893],\n",
            "       [ 0.27532968],\n",
            "       [-0.23189507],\n",
            "       [ 0.1743647 ],\n",
            "       [-0.22542967],\n",
            "       [ 0.26909947],\n",
            "       [-0.2415191 ],\n",
            "       [ 0.19466963],\n",
            "       [ 0.26597065],\n",
            "       [-0.14813621],\n",
            "       [-0.18578362],\n",
            "       [-0.1924944 ],\n",
            "       [-0.13414367],\n",
            "       [ 0.2438054 ],\n",
            "       [-0.10211452],\n",
            "       [ 0.25968516],\n",
            "       [-0.20909007],\n",
            "       [-0.08765932],\n",
            "       [ 0.25018618],\n",
            "       [-0.00279002],\n",
            "       [ 0.25652838],\n",
            "       [ 0.32690126],\n",
            "       [ 0.23416065],\n",
            "       [ 0.24700062],\n",
            "       [-0.29750592],\n",
            "       [-0.31853223],\n",
            "       [-0.24470763],\n",
            "       [-0.2914257 ],\n",
            "       [ 0.32095557],\n",
            "       [-0.11999825],\n",
            "       [ 0.0121075 ],\n",
            "       [-0.18241268],\n",
            "       [-0.1585264 ],\n",
            "       [ 0.19131151],\n",
            "       [ 0.2907492 ],\n",
            "       [-0.25736636],\n",
            "       [ 0.15715978],\n",
            "       [-0.05104229],\n",
            "       [-0.10929383]], dtype=float32)]\n"
          ]
        }
      ]
    },
    {
      "cell_type": "code",
      "source": [
        "a = [-4,-3,-2,-1,0,1,2,3,4]\n",
        "\n",
        "# list b : a*2 +1\n",
        "b= [i*2+1 for i in a]\n",
        "print(b)\n",
        "\n",
        "# list c : abs(a)\n",
        "c = [abs(i) for i in a]\n",
        "print(c)\n",
        "\n",
        "def my_func(v):\n",
        "  return v*3\n",
        "\n",
        "# list d : my_func(a)\n",
        "d = [my_func(i) for i in a]\n",
        "print(d)"
      ],
      "metadata": {
        "colab": {
          "base_uri": "https://localhost:8080/"
        },
        "id": "2spNl4BJjyt0",
        "outputId": "1ce11bff-f503-41c8-ccf1-336c4fbb0138"
      },
      "execution_count": 9,
      "outputs": [
        {
          "output_type": "stream",
          "name": "stdout",
          "text": [
            "[-7, -5, -3, -1, 1, 3, 5, 7, 9]\n",
            "[4, 3, 2, 1, 0, 1, 2, 3, 4]\n",
            "[-12, -9, -6, -3, 0, 3, 6, 9, 12]\n"
          ]
        }
      ]
    },
    {
      "cell_type": "code",
      "source": [
        "y_ = [model.predict(test_x) for model in models]\n",
        "# print(y_)\n",
        "print(len(y_))\n",
        "print(y_[0])\n",
        "\n",
        "print(models[0].predict(test_x))"
      ],
      "metadata": {
        "colab": {
          "base_uri": "https://localhost:8080/"
        },
        "id": "MhgsODz0kQcZ",
        "outputId": "f9e84177-d59a-4736-9ce3-e2474e5077ad"
      },
      "execution_count": 10,
      "outputs": [
        {
          "output_type": "stream",
          "name": "stdout",
          "text": [
            "3\n",
            "[[ 0.26438048]\n",
            " [-0.14709385]\n",
            " [ 0.3355059 ]\n",
            " [-0.2826294 ]\n",
            " [ 0.20580658]\n",
            " [-0.2746567 ]\n",
            " [ 0.32713822]\n",
            " [-0.2945884 ]\n",
            " [ 0.23090969]\n",
            " [ 0.32295436]\n",
            " [-0.1829709 ]\n",
            " [-0.22682065]\n",
            " [-0.23479334]\n",
            " [-0.16702552]\n",
            " [ 0.29366744]\n",
            " [-0.13114847]\n",
            " [ 0.31458664]\n",
            " [-0.254725  ]\n",
            " [-0.1152031 ]\n",
            " [ 0.30203512]\n",
            " [-0.01975177]\n",
            " [ 0.31040284]\n",
            " [ 0.40663132]\n",
            " [ 0.28111586]\n",
            " [ 0.29785123]\n",
            " [-0.3663425 ]\n",
            " [-0.39424694]\n",
            " [-0.29857472]\n",
            " [-0.3583699 ]\n",
            " [ 0.3982636 ]\n",
            " [-0.15108018]\n",
            " [ 0.0164198 ]\n",
            " [-0.2228343 ]\n",
            " [-0.19492991]\n",
            " [ 0.22672583]\n",
            " [ 0.3564251 ]\n",
            " [-0.31452012]\n",
            " [ 0.18488736]\n",
            " [-0.07533972]\n",
            " [-0.13912115]]\n",
            "[[ 0.26438048]\n",
            " [-0.14709385]\n",
            " [ 0.3355059 ]\n",
            " [-0.2826294 ]\n",
            " [ 0.20580658]\n",
            " [-0.2746567 ]\n",
            " [ 0.32713822]\n",
            " [-0.2945884 ]\n",
            " [ 0.23090969]\n",
            " [ 0.32295436]\n",
            " [-0.1829709 ]\n",
            " [-0.22682065]\n",
            " [-0.23479334]\n",
            " [-0.16702552]\n",
            " [ 0.29366744]\n",
            " [-0.13114847]\n",
            " [ 0.31458664]\n",
            " [-0.254725  ]\n",
            " [-0.1152031 ]\n",
            " [ 0.30203512]\n",
            " [-0.01975177]\n",
            " [ 0.31040284]\n",
            " [ 0.40663132]\n",
            " [ 0.28111586]\n",
            " [ 0.29785123]\n",
            " [-0.3663425 ]\n",
            " [-0.39424694]\n",
            " [-0.29857472]\n",
            " [-0.3583699 ]\n",
            " [ 0.3982636 ]\n",
            " [-0.15108018]\n",
            " [ 0.0164198 ]\n",
            " [-0.2228343 ]\n",
            " [-0.19492991]\n",
            " [ 0.22672583]\n",
            " [ 0.3564251 ]\n",
            " [-0.31452012]\n",
            " [ 0.18488736]\n",
            " [-0.07533972]\n",
            " [-0.13912115]]\n"
          ]
        }
      ]
    },
    {
      "cell_type": "code",
      "source": [
        "y_ = [model.predict(test_x) for model in models]\n",
        "y_ = np.array(y_)\n",
        "print(y_.shape)"
      ],
      "metadata": {
        "colab": {
          "base_uri": "https://localhost:8080/"
        },
        "id": "TO3jpii0ll57",
        "outputId": "1e64a7c4-dde3-4b60-94bd-bdb3403add7e"
      },
      "execution_count": 11,
      "outputs": [
        {
          "output_type": "stream",
          "name": "stdout",
          "text": [
            "(3, 40, 1)\n"
          ]
        }
      ]
    },
    {
      "cell_type": "code",
      "source": [
        ""
      ],
      "metadata": {
        "id": "0HjV2yMplRDK"
      },
      "execution_count": null,
      "outputs": []
    },
    {
      "cell_type": "code",
      "source": [
        "y_ = [model.predict(test_x) for model in models]\n",
        "y_ = np.array(y_)\n",
        "print(\"y_.shape =\", y_.shape)\n",
        "outcomes = np.mean(y_,axis=0).squeeze()\n",
        "print(\"outcomes.shape =\", outcomes.shape)\n",
        "\n",
        "mse = tf.keras.losses.mean_squared_error(test_y, outcomes).numpy()\n",
        "print(\"mse =\", mse)"
      ],
      "metadata": {
        "colab": {
          "base_uri": "https://localhost:8080/"
        },
        "id": "VSG_Eq5rpCHZ",
        "outputId": "73ca7609-7b7a-4370-cedd-50ed06a684c9"
      },
      "execution_count": 12,
      "outputs": [
        {
          "output_type": "stream",
          "name": "stdout",
          "text": [
            "y_.shape = (3, 40, 1)\n",
            "outcomes.shape = (40,)\n",
            "mse = 0.11679604\n"
          ]
        }
      ]
    },
    {
      "cell_type": "markdown",
      "source": [
        "# 분류 문제"
      ],
      "metadata": {
        "id": "NkUCBH2zPtGa"
      }
    },
    {
      "cell_type": "code",
      "metadata": {
        "id": "h-Hlstlof5l6",
        "colab": {
          "base_uri": "https://localhost:8080/"
        },
        "outputId": "ee83145d-2b0e-42e1-e0a1-9112ae7f9527"
      },
      "source": [
        "(raw_train_x, raw_train_y), (raw_test_x, raw_test_y) = tf.keras.datasets.mnist.load_data()\n",
        "\n",
        "train_x = raw_train_x / 255.\n",
        "test_x = raw_test_x / 255.\n",
        "\n",
        "train_y = raw_train_y\n",
        "test_y = raw_test_y"
      ],
      "execution_count": 13,
      "outputs": [
        {
          "output_type": "stream",
          "name": "stdout",
          "text": [
            "Downloading data from https://storage.googleapis.com/tensorflow/tf-keras-datasets/mnist.npz\n",
            "11493376/11490434 [==============================] - 0s 0us/step\n",
            "11501568/11490434 [==============================] - 0s 0us/step\n"
          ]
        }
      ]
    },
    {
      "cell_type": "code",
      "source": [
        "def build_model():  \n",
        "  model = keras.Sequential()\n",
        "  model.add(Input((28,28)))\n",
        "  model.add(Reshape((28,28,1)))\n",
        "  model.add(Conv2D(32, (3, 3), padding='same'))\n",
        "  model.add(MaxPooling2D((2, 2)))\n",
        "  model.add(Conv2D(64, (3, 3), padding='same'))\n",
        "  model.add(MaxPooling2D((2, 2)))\n",
        "  model.add(Flatten())\n",
        "  model.add(Dense(10, activation='relu'))\n",
        "  model.add(Dense(10, activation='relu'))\n",
        "  model.add(Dense(10, activation='softmax'))\n",
        "\n",
        "  model.compile(optimizer=\"Adam\", loss=\"sparse_categorical_crossentropy\", metrics=[\"accuracy\"])\n",
        "\n",
        "  return model"
      ],
      "metadata": {
        "id": "2YqlPL3pD_Qx"
      },
      "execution_count": 14,
      "outputs": []
    },
    {
      "cell_type": "code",
      "source": [
        "n_members = 3"
      ],
      "metadata": {
        "id": "eMq3r9DgLKL9"
      },
      "execution_count": 15,
      "outputs": []
    },
    {
      "cell_type": "code",
      "source": [
        "models = []\n",
        "for _ in range(n_members):\n",
        "\tmodel = build_model()\n",
        "\tmodels.append(model)"
      ],
      "metadata": {
        "id": "Kjx2SlVyLH3E"
      },
      "execution_count": 16,
      "outputs": []
    },
    {
      "cell_type": "code",
      "source": [
        "for i in range(n_members):\n",
        "\tmodels[i].fit(train_x, train_y, epochs=1, batch_size=32)"
      ],
      "metadata": {
        "colab": {
          "base_uri": "https://localhost:8080/"
        },
        "id": "5rXaam5dLezt",
        "outputId": "718813aa-317a-4bb5-a098-04752ad822fb"
      },
      "execution_count": 17,
      "outputs": [
        {
          "output_type": "stream",
          "name": "stdout",
          "text": [
            "1875/1875 [==============================] - 16s 4ms/step - loss: 0.2712 - accuracy: 0.9160\n",
            "1875/1875 [==============================] - 8s 4ms/step - loss: 0.3575 - accuracy: 0.8885\n",
            "1875/1875 [==============================] - 8s 4ms/step - loss: 0.6480 - accuracy: 0.8045\n"
          ]
        }
      ]
    },
    {
      "cell_type": "code",
      "source": [
        "from sklearn.metrics import accuracy_score\n",
        "\n",
        "y_ = [model.predict(test_x) for model in models]\n",
        "y_ = np.array(y_)  # <------------------\n",
        "summed = np.sum(y_, axis=0)\n",
        "print(summed[0])\n",
        "outcomes = np.argmax(summed, axis=1)\n",
        "print(outcomes)\n",
        "\n",
        "acc = accuracy_score(test_y, outcomes)\n",
        "print(acc)\n"
      ],
      "metadata": {
        "colab": {
          "base_uri": "https://localhost:8080/"
        },
        "id": "PcT3ovzXMfPB",
        "outputId": "31c25491-e231-41c3-b5e9-fad2b0a23578"
      },
      "execution_count": 18,
      "outputs": [
        {
          "output_type": "stream",
          "name": "stdout",
          "text": [
            "[1.4279074e-03 3.0180857e-07 1.1702141e-03 4.1904241e-05 6.3435721e-08\n",
            " 3.3178716e-07 1.3992771e-07 2.9968016e+00 2.6346220e-06 5.5487017e-04]\n",
            "[7 2 1 ... 4 5 6]\n",
            "0.9751\n"
          ]
        }
      ]
    },
    {
      "cell_type": "code",
      "source": [
        ""
      ],
      "metadata": {
        "id": "BevvXEdoEzbu"
      },
      "execution_count": null,
      "outputs": []
    },
    {
      "cell_type": "code",
      "metadata": {
        "id": "4eait6xD3-Hv"
      },
      "source": [
        ""
      ],
      "execution_count": null,
      "outputs": []
    },
    {
      "cell_type": "markdown",
      "source": [
        "# 2진 분류 문제"
      ],
      "metadata": {
        "id": "aXaa9pT3v8HP"
      }
    },
    {
      "cell_type": "code",
      "source": [
        "!wget https://raw.githubusercontent.com/dhrim/MDC_2021/master/material/deep_learning/data/sonar.csv"
      ],
      "metadata": {
        "colab": {
          "base_uri": "https://localhost:8080/"
        },
        "id": "db4adJcdwF62",
        "outputId": "7e3aacff-12a7-44f3-9375-b3f03c3bdb44"
      },
      "execution_count": 24,
      "outputs": [
        {
          "output_type": "stream",
          "name": "stdout",
          "text": [
            "--2022-01-19 05:12:26--  https://raw.githubusercontent.com/dhrim/MDC_2021/master/material/deep_learning/data/sonar.csv\n",
            "Resolving raw.githubusercontent.com (raw.githubusercontent.com)... 185.199.108.133, 185.199.109.133, 185.199.110.133, ...\n",
            "Connecting to raw.githubusercontent.com (raw.githubusercontent.com)|185.199.108.133|:443... connected.\n",
            "HTTP request sent, awaiting response... 200 OK\n",
            "Length: 87776 (86K) [text/plain]\n",
            "Saving to: ‘sonar.csv’\n",
            "\n",
            "\rsonar.csv             0%[                    ]       0  --.-KB/s               \rsonar.csv           100%[===================>]  85.72K  --.-KB/s    in 0.005s  \n",
            "\n",
            "2022-01-19 05:12:26 (15.7 MB/s) - ‘sonar.csv’ saved [87776/87776]\n",
            "\n"
          ]
        }
      ]
    },
    {
      "cell_type": "code",
      "source": [
        "raw_data = pd.read_csv(\"sonar.csv\")\n",
        "data = raw_data.to_numpy()\n",
        "np.random.shuffle(data)\n",
        "\n",
        "x = data[:,:60]\n",
        "y = data[:,60]\n",
        "\n",
        "i = int(len(x)*0.8)\n",
        "train_x, test_x = x[:i], x[i:]\n",
        "train_y, test_y = y[:i], y[i:]"
      ],
      "metadata": {
        "id": "Pxy_QvbfwHcZ"
      },
      "execution_count": 25,
      "outputs": []
    },
    {
      "cell_type": "code",
      "source": [
        "def build_model():  \n",
        "\n",
        "  model = keras.Sequential()\n",
        "  model.add(Dense(10, activation='relu', input_shape=(60,)))\n",
        "  model.add(Dense(10, activation='relu'))\n",
        "  model.add(Dense(1, activation=\"sigmoid\"))\n",
        "\n",
        "  model.compile(optimizer=\"Adam\", loss=\"binary_crossentropy\", metrics=[\"acc\"])\n",
        "\n",
        "  return model"
      ],
      "metadata": {
        "id": "eUyR8tUGv8HQ"
      },
      "execution_count": 26,
      "outputs": []
    },
    {
      "cell_type": "code",
      "source": [
        "n_members = 3"
      ],
      "metadata": {
        "id": "fBYKLV-sv8HQ"
      },
      "execution_count": 27,
      "outputs": []
    },
    {
      "cell_type": "code",
      "source": [
        "models = []\n",
        "for _ in range(n_members):\n",
        "\tmodel = build_model()\n",
        "\tmodels.append(model)"
      ],
      "metadata": {
        "id": "jkOBRhXjv8HQ"
      },
      "execution_count": 28,
      "outputs": []
    },
    {
      "cell_type": "code",
      "source": [
        "for i in range(n_members):\n",
        "\tmodels[i].fit(train_x, train_y, epochs=1, batch_size=32, validation_split=0.2)  # <---------------"
      ],
      "metadata": {
        "colab": {
          "base_uri": "https://localhost:8080/"
        },
        "outputId": "1efd92cf-3831-4da1-e77d-40593d647e46",
        "id": "NdaLtMAxv8HR"
      },
      "execution_count": 29,
      "outputs": [
        {
          "output_type": "stream",
          "name": "stdout",
          "text": [
            "5/5 [==============================] - 1s 59ms/step - loss: 0.6944 - acc: 0.5076 - val_loss: 0.7034 - val_acc: 0.4545\n",
            "5/5 [==============================] - 1s 50ms/step - loss: 0.7276 - acc: 0.4773 - val_loss: 0.7028 - val_acc: 0.5152\n",
            "5/5 [==============================] - 1s 45ms/step - loss: 0.6949 - acc: 0.4924 - val_loss: 0.6828 - val_acc: 0.5758\n"
          ]
        }
      ]
    },
    {
      "cell_type": "code",
      "source": [
        "y_ = [model.predict(test_x[:10]) for model in models]\n",
        "y_ = np.array(y_).squeeze()\n",
        "# print(y_)\n",
        "predicted = (y_>0.5).astype(np.int)\n",
        "print(predicted)\n",
        "\n",
        "import scipy\n",
        "outcomes, _ = scipy.stats.mode(predicted)\n",
        "print(outcomes[:10])"
      ],
      "metadata": {
        "colab": {
          "base_uri": "https://localhost:8080/"
        },
        "id": "-KCWaQ4qod4w",
        "outputId": "d5d51984-94c2-4f2c-ce42-20952fced70f"
      },
      "execution_count": 30,
      "outputs": [
        {
          "output_type": "stream",
          "name": "stdout",
          "text": [
            "[[0 0 0 1 0 0 0 0 0 0]\n",
            " [1 1 1 1 1 1 1 1 1 0]\n",
            " [1 1 1 1 1 1 1 1 1 1]]\n",
            "[[1 1 1 1 1 1 1 1 1 0]]\n"
          ]
        }
      ]
    },
    {
      "cell_type": "code",
      "source": [
        "y_ = [model.predict(test_x) for model in models]\n",
        "y_ = np.array(y_).squeeze()\n",
        "predicted = (y_>0.5).astype(np.int)\n",
        "\n",
        "import scipy\n",
        "outcomes, _ = scipy.stats.mode(predicted)      # 넘파이 배열 모드 계산\n",
        "print(outcomes[:10])\n",
        "outcomes = outcomes.squeeze()\n",
        "\n",
        "\n",
        "from sklearn.metrics import accuracy_score\n",
        "\n",
        "acc = accuracy_score(test_y, outcomes)\n",
        "print(\"acc=\",acc)"
      ],
      "metadata": {
        "colab": {
          "base_uri": "https://localhost:8080/"
        },
        "id": "amn00WB1wzd_",
        "outputId": "2a0b9a1a-94a9-4363-f3d6-61f09f43bbe1"
      },
      "execution_count": 31,
      "outputs": [
        {
          "output_type": "stream",
          "name": "stdout",
          "text": [
            "[[1 1 1 1 1 1 1 1 1 0 1 1 1 1 1 1 1 1 1 1 1 1 1 1 1 1 1 1 1 1 1 1 1 1 1 1\n",
            "  1 1 1 1 1 1]]\n",
            "acc= 0.6190476190476191\n"
          ]
        }
      ]
    }
  ]
}