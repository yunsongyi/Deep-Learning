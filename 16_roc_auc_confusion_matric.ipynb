{
  "nbformat": 4,
  "nbformat_minor": 0,
  "metadata": {
    "colab": {
      "name": "16_roc_auc_confusion_matric.ipynb",
      "provenance": [],
      "collapsed_sections": []
    },
    "kernelspec": {
      "name": "python3",
      "display_name": "Python 3"
    },
    "accelerator": "GPU"
  },
  "cells": [
    {
      "cell_type": "markdown",
      "source": [
        "```\n",
        "AUC-ROC 곡선은 다양한 임계값에서 모델의 분류성능에 대한 측정 그래프\n",
        "\n",
        "ROC(Receiver Operator Characteristic) : 모든 임계값에서 분류 모델의 성능을 보여주는 그래프\n",
        "\n",
        "AUC(Area Under the Curve) : ROC 곡선 아래의 영역(AUC가 높으면 클래스를 구별하는 모델의 성능이 훌륭하다는 의미)\n",
        "\n",
        "임상에서는 정상인 및 환자 클래스를 구분하는 모델의 성능 평가로 흔히 사용\n",
        "\n",
        "ROC곡선은 TPR(민감도)이 y축에 있고, FPR(1-민감도(specificity))이 x축으로 그려짐\n",
        "```"
      ],
      "metadata": {
        "id": "klLTipuDnA5u"
      }
    },
    {
      "cell_type": "markdown",
      "source": [
        "```\n",
        "민감도(sensitivity) : 실제로 병이 있을 때, 검사 결과가 양성인 경우\n",
        "\n",
        "특이도(specificity) : 실제로 병이 있을 때, 검사 결과가 음성인 경우\n",
        "```"
      ],
      "metadata": {
        "id": "luMEjN2voJin"
      }
    },
    {
      "cell_type": "markdown",
      "source": [
        "```\n",
        "AUC 값이 0에 가까울수록 클래스 분류하는 성능이 떨어짐을 의미하고 1에 가까울수록 클래스 분류하는 성능이 뛰어남을 의미.\n",
        "\n",
        "실제로 최소값은 0.5로, 이 경우 모델의 클래스 분리 능력이 거의 없음을 의미\n",
        "```"
      ],
      "metadata": {
        "id": "Y1ulDRZlojRF"
      }
    },
    {
      "cell_type": "markdown",
      "source": [
        "```\n",
        "민감도와 특이성은 서로 반비례\n",
        "\n",
        "Threshold(임계값)을 줄이면, positive rate이 높아져 민감도 상승, 특이도 감소\n",
        "\n",
        "Threshold(임계값)을 높이면, positive rate이 낮아져 민감도 감소, 특이도 상승\n",
        "```"
      ],
      "metadata": {
        "id": "UOpkgvBuo9g9"
      }
    },
    {
      "cell_type": "markdown",
      "source": [
        "```\n",
        "precision과 recall을 모두 표현하기 위해 F1 score와 AUC 필요\n",
        "\n",
        "F1 score = precision과 recall의 조화평균\n",
        "\n",
        "= 2precisionrecall/(precision+recall)\n",
        "\n",
        "AUC = ROC 그래프의 면적 = 1~0.5 = 면적이 클수록 성능이 좋다.\n",
        "\n",
        "성능 척도 => F1 score, AUC\n",
        "\n",
        "F1 score를 쓰는 이유!! 분류 클래스 모델이 있다고 하자. A,B,C 클래스가 있는데 A 클래스에 대해서만 분류가 잘되는 경우와 A 클래스에 대해 분류가 덜 되지만 B, C 클래스를 분류하는 경우 중에서 A 데이터가 월등히 많은 경우 전자 모델이 정확도가 훨씬 좋게 나올 것이다. 하지만 전자 모델은 B, C 클래스를 분류를 잘못하는데 말이지. 이러한 경우 F1 score를 계산하면 전자 보다 후자 모델이 더 성능이 좋다는 것을 알 수 있다.\n",
        "```"
      ],
      "metadata": {
        "id": "X036PdX7DhL0"
      }
    },
    {
      "cell_type": "markdown",
      "metadata": {
        "id": "giMgHzNY8861"
      },
      "source": [
        "# ROC, AUC"
      ]
    },
    {
      "cell_type": "code",
      "source": [
        "import numpy as np\n",
        "from numpy import interp\n",
        "import matplotlib.pyplot as plt\n",
        "from itertools import cycle\n",
        "from sklearn.metrics import roc_curve, auc\n",
        "\n",
        "def draw_ROC_and_get_AUC(y_test, y_score, n_classes=2):\n",
        "\n",
        "  y_test = np.eye(n_classes)[y_test]\n",
        "  y_score = np.eye(n_classes)[y_score]\n",
        "\n",
        "  # Plot linewidth.\n",
        "  lw = 2\n",
        "\n",
        "  # Compute ROC curve and ROC area for each class\n",
        "  fpr = dict()\n",
        "  tpr = dict()\n",
        "  roc_auc = dict()\n",
        "  for i in range(n_classes):\n",
        "      fpr[i], tpr[i], _ = roc_curve(y_test[:, i], y_score[:, i])\n",
        "      roc_auc[i] = auc(fpr[i], tpr[i])\n",
        "\n",
        "  # Compute micro-average ROC curve and ROC area\n",
        "  fpr[\"micro\"], tpr[\"micro\"], _ = roc_curve(y_test.ravel(), y_score.ravel())\n",
        "  roc_auc[\"micro\"] = auc(fpr[\"micro\"], tpr[\"micro\"])\n",
        "\n",
        "  # Compute macro-average ROC curve and ROC area\n",
        "\n",
        "  # First aggregate all false positive rates\n",
        "  all_fpr = np.unique(np.concatenate([fpr[i] for i in range(n_classes)]))\n",
        "\n",
        "  # Then interpolate all ROC curves at this points\n",
        "  mean_tpr = np.zeros_like(all_fpr)\n",
        "  for i in range(n_classes):\n",
        "      mean_tpr += interp(all_fpr, fpr[i], tpr[i])\n",
        "\n",
        "  # Finally average it and compute AUC\n",
        "  mean_tpr /= n_classes\n",
        "\n",
        "  fpr[\"macro\"] = all_fpr\n",
        "  tpr[\"macro\"] = mean_tpr\n",
        "  roc_auc[\"macro\"] = auc(fpr[\"macro\"], tpr[\"macro\"])\n",
        "\n",
        "  # Plot all ROC curves\n",
        "  plt.figure(1)\n",
        "  plt.plot(fpr[\"macro\"], tpr[\"macro\"],\n",
        "          label='ROC curve (area = {0:0.2f})'\n",
        "                ''.format(roc_auc[\"macro\"]),\n",
        "          color='navy', linestyle=':', linewidth=4)\n",
        "\n",
        "  colors = cycle(['aqua', 'darkorange', 'cornflowerblue'])\n",
        "  for i, color in zip(range(n_classes), colors):\n",
        "      plt.plot(fpr[i], tpr[i], color=color, lw=lw,\n",
        "              label='ROC curve of class {0} (area = {1:0.2f})'\n",
        "              ''.format(i, roc_auc[i]))\n",
        "\n",
        "  plt.plot([0, 1], [0, 1], 'k--', lw=lw)\n",
        "  plt.xlim([0.0, 1.0])\n",
        "  plt.ylim([0.0, 1.05])\n",
        "  plt.xlabel('False Positive Rate')\n",
        "  plt.ylabel('True Positive Rate')\n",
        "  plt.title('Some extension of Receiver operating characteristic to multi-class')\n",
        "  plt.legend(loc=\"lower right\")\n",
        "  plt.show()\n",
        "\n",
        "  return roc_auc[\"macro\"]"
      ],
      "metadata": {
        "id": "bC9FeOdpuH7a"
      },
      "execution_count": 1,
      "outputs": []
    },
    {
      "cell_type": "markdown",
      "source": [
        "# 2개 클래스"
      ],
      "metadata": {
        "id": "RVBHGKcOtbD1"
      }
    },
    {
      "cell_type": "markdown",
      "metadata": {
        "id": "qDu8wpKXq7kV"
      },
      "source": [
        "## 데이터 준비"
      ]
    },
    {
      "cell_type": "code",
      "metadata": {
        "id": "ROMsisKxw8MC"
      },
      "source": [
        "import numpy as np\n",
        "import pandas as pd\n",
        "import matplotlib.pyplot as plt"
      ],
      "execution_count": 2,
      "outputs": []
    },
    {
      "cell_type": "code",
      "metadata": {
        "colab": {
          "base_uri": "https://localhost:8080/"
        },
        "id": "gwMz9NaYwx5e",
        "outputId": "be893b83-e939-43fb-a133-d97014f1cf41"
      },
      "source": [
        "!wget https://raw.githubusercontent.com/dhrim/MDC_2021/master/material/deep_learning/data/sonar.csv"
      ],
      "execution_count": 3,
      "outputs": [
        {
          "output_type": "stream",
          "name": "stdout",
          "text": [
            "--2022-01-18 06:21:56--  https://raw.githubusercontent.com/dhrim/MDC_2021/master/material/deep_learning/data/sonar.csv\n",
            "Resolving raw.githubusercontent.com (raw.githubusercontent.com)... 185.199.108.133, 185.199.109.133, 185.199.110.133, ...\n",
            "Connecting to raw.githubusercontent.com (raw.githubusercontent.com)|185.199.108.133|:443... connected.\n",
            "HTTP request sent, awaiting response... 200 OK\n",
            "Length: 87776 (86K) [text/plain]\n",
            "Saving to: ‘sonar.csv’\n",
            "\n",
            "sonar.csv           100%[===================>]  85.72K  --.-KB/s    in 0.02s   \n",
            "\n",
            "2022-01-18 06:21:56 (5.13 MB/s) - ‘sonar.csv’ saved [87776/87776]\n",
            "\n"
          ]
        }
      ]
    },
    {
      "cell_type": "code",
      "metadata": {
        "id": "VckhCYiwxAZj"
      },
      "source": [
        "raw_data = pd.read_csv(\"sonar.csv\")\n",
        "data = raw_data.to_numpy()\n",
        "np.random.shuffle(data)\n",
        "\n",
        "x = data[:,:60]\n",
        "y = data[:,60].astype(np.int)\n",
        "\n",
        "split_index = int(len(x)*0.8)\n",
        "train_x, test_x = x[:split_index], x[split_index:]\n",
        "train_y, test_y = y[:split_index], y[split_index:]"
      ],
      "execution_count": 4,
      "outputs": []
    },
    {
      "cell_type": "markdown",
      "metadata": {
        "id": "PvaZhPiSq5Gc"
      },
      "source": [
        "## 학습"
      ]
    },
    {
      "cell_type": "code",
      "metadata": {
        "id": "S-wBUWBH_mTQ",
        "colab": {
          "base_uri": "https://localhost:8080/",
          "height": 842
        },
        "outputId": "ae35e77b-a954-45a6-c57b-b3d8f2322e11"
      },
      "source": [
        "import numpy as np\n",
        "import pandas as pd\n",
        "import matplotlib.pyplot as plt\n",
        "\n",
        "import tensorflow as tf\n",
        "\n",
        "from tensorflow import keras\n",
        "from tensorflow.keras import optimizers\n",
        "from tensorflow.keras.layers import Dense\n",
        "from tensorflow.keras.metrics import AUC, Precision, Recall\n",
        "\n",
        "model = keras.Sequential()\n",
        "model.add(Dense(10, activation='relu', input_shape=(60,)))\n",
        "model.add(Dense(10, activation='relu'))\n",
        "model.add(Dense(1, activation=\"sigmoid\"))\n",
        "\n",
        "model.compile(optimizer=\"Adam\", loss=\"binary_crossentropy\", metrics=[\"acc\"])\n",
        "model.summary()\n",
        "\n",
        "history = model.fit(train_x, train_y, epochs=200, verbose=0, batch_size=128, validation_split=0.1)\n",
        "\n",
        "plt.plot(history.history['loss'])\n",
        "plt.plot(history.history['val_loss'])\n",
        "plt.show()\n",
        "\n",
        "\n",
        "\n",
        "loss, acc = model.evaluate(test_x, test_y)\n",
        "print(\"loss=\", loss)\n",
        "print(\"acc=\", acc)\n",
        "\n",
        "\n",
        "\n",
        "\n",
        "y_ = model.predict(test_x)\n",
        "predicted = (y_>0.5).astype(np.int).squeeze()\n",
        "\n",
        "plt.plot(test_y, \"o\")\n",
        "plt.plot(predicted, \".\")\n",
        "plt.show()"
      ],
      "execution_count": 5,
      "outputs": [
        {
          "output_type": "stream",
          "name": "stdout",
          "text": [
            "Model: \"sequential\"\n",
            "_________________________________________________________________\n",
            " Layer (type)                Output Shape              Param #   \n",
            "=================================================================\n",
            " dense (Dense)               (None, 10)                610       \n",
            "                                                                 \n",
            " dense_1 (Dense)             (None, 10)                110       \n",
            "                                                                 \n",
            " dense_2 (Dense)             (None, 1)                 11        \n",
            "                                                                 \n",
            "=================================================================\n",
            "Total params: 731\n",
            "Trainable params: 731\n",
            "Non-trainable params: 0\n",
            "_________________________________________________________________\n"
          ]
        },
        {
          "output_type": "display_data",
          "data": {
            "image/png": "[encoded data removed]",
            "text/plain": [
              "<Figure size 432x288 with 1 Axes>"
            ]
          },
          "metadata": {
            "needs_background": "light"
          }
        },
        {
          "output_type": "stream",
          "name": "stdout",
          "text": [
            "2/2 [==============================] - 0s 7ms/step - loss: 0.3942 - acc: 0.7857\n",
            "loss= 0.3941950500011444\n",
            "acc= 0.7857142686843872\n"
          ]
        },
        {
          "output_type": "display_data",
          "data": {
            "image/png": "[encoded data removed]",
            "text/plain": [
              "<Figure size 432x288 with 1 Axes>"
            ]
          },
          "metadata": {
            "needs_background": "light"
          }
        }
      ]
    },
    {
      "cell_type": "markdown",
      "source": [
        "## ROC 그리기, AUC 출력"
      ],
      "metadata": {
        "id": "N9QZY6Ni15Sp"
      }
    },
    {
      "cell_type": "code",
      "source": [
        "auc = draw_ROC_and_get_AUC(test_y, predicted, n_classes=2)\n",
        "print(\"AUC \", auc)"
      ],
      "metadata": {
        "colab": {
          "base_uri": "https://localhost:8080/",
          "height": 314
        },
        "id": "-ywAwrFpwwgs",
        "outputId": "0b28b636-734e-4a32-d9d4-877eb69f09d5"
      },
      "execution_count": 6,
      "outputs": [
        {
          "output_type": "display_data",
          "data": {
            "image/png": "[encoded data removed]",
            "text/plain": [
              "<Figure size 432x288 with 1 Axes>"
            ]
          },
          "metadata": {
            "needs_background": "light"
          }
        },
        {
          "output_type": "stream",
          "name": "stdout",
          "text": [
            "AUC  0.790909090909091\n"
          ]
        }
      ]
    },
    {
      "cell_type": "code",
      "source": [
        ""
      ],
      "metadata": {
        "id": "Pkxkygw2yKvQ"
      },
      "execution_count": null,
      "outputs": []
    },
    {
      "cell_type": "markdown",
      "source": [
        "## Confusion Matric\n",
        "\n",
        "confusion matrix (오차행렬) = 예측 성능을 측정하기 위해 예측값과 실제값을 비교하는 표"
      ],
      "metadata": {
        "id": "g6fwqeQo3L5i"
      }
    },
    {
      "cell_type": "code",
      "source": [
        "from sklearn.metrics import classification_report\n",
        "from sklearn.metrics import confusion_matrix\n",
        "\n",
        "cm = confusion_matrix(test_y, predicted)\n",
        "print(cm)"
      ],
      "metadata": {
        "colab": {
          "base_uri": "https://localhost:8080/"
        },
        "outputId": "2452738d-553c-4762-838a-7fe1c1b6152d",
        "id": "BSUdf_2M3L5i"
      },
      "execution_count": 7,
      "outputs": [
        {
          "output_type": "stream",
          "name": "stdout",
          "text": [
            "[[15  7]\n",
            " [ 2 18]]\n"
          ]
        }
      ]
    },
    {
      "cell_type": "code",
      "source": [
        "print(classification_report(test_y, predicted, target_names=['0','1']))"
      ],
      "metadata": {
        "colab": {
          "base_uri": "https://localhost:8080/"
        },
        "outputId": "f753faaf-bf23-4c5d-94ce-ed961c491640",
        "id": "YbeZ_QDc3L5j"
      },
      "execution_count": 8,
      "outputs": [
        {
          "output_type": "stream",
          "name": "stdout",
          "text": [
            "              precision    recall  f1-score   support\n",
            "\n",
            "           0       0.88      0.68      0.77        22\n",
            "           1       0.72      0.90      0.80        20\n",
            "\n",
            "    accuracy                           0.79        42\n",
            "   macro avg       0.80      0.79      0.78        42\n",
            "weighted avg       0.81      0.79      0.78        42\n",
            "\n"
          ]
        }
      ]
    },
    {
      "cell_type": "code",
      "source": [
        "import seaborn as sns\n",
        "\n",
        "figure = plt.figure(figsize=(8, 8))\n",
        "sns.heatmap(cm, annot=True, cmap=plt.cm.Blues)\n",
        "plt.tight_layout()\n",
        "plt.ylabel('True label')\n",
        "plt.xlabel('Predicted label')\n",
        "plt.show()"
      ],
      "metadata": {
        "colab": {
          "base_uri": "https://localhost:8080/",
          "height": 599
        },
        "outputId": "3cd056cb-4435-473b-df70-dbbff43b69a1",
        "id": "VzZnYhk33L5j"
      },
      "execution_count": 9,
      "outputs": [
        {
          "output_type": "display_data",
          "data": {
            "image/png": "[encoded data removed]",
            "text/plain": [
              "<Figure size 576x576 with 2 Axes>"
            ]
          },
          "metadata": {
            "needs_background": "light"
          }
        }
      ]
    },
    {
      "cell_type": "code",
      "source": [
        ""
      ],
      "metadata": {
        "id": "EqoYnm1T3L5j"
      },
      "execution_count": null,
      "outputs": []
    },
    {
      "cell_type": "markdown",
      "source": [
        "# n개 클래스"
      ],
      "metadata": {
        "id": "172g03PW1_UV"
      }
    },
    {
      "cell_type": "markdown",
      "metadata": {
        "id": "U9tjK5mf1_UV"
      },
      "source": [
        "## 데이터 준비"
      ]
    },
    {
      "cell_type": "code",
      "source": [
        "(raw_train_x, raw_train_y), (raw_test_x, raw_test_y) = tf.keras.datasets.mnist.load_data()\n",
        "\n",
        "train_x = raw_train_x/255\n",
        "test_x = raw_test_x/255\n",
        "\n",
        "train_y = raw_train_y\n",
        "test_y = raw_test_y"
      ],
      "metadata": {
        "id": "aLLMtYtg2G9x"
      },
      "execution_count": 26,
      "outputs": []
    },
    {
      "cell_type": "markdown",
      "metadata": {
        "id": "Z-Wb-MeJ1_UW"
      },
      "source": [
        "## 학습"
      ]
    },
    {
      "cell_type": "code",
      "metadata": {
        "colab": {
          "base_uri": "https://localhost:8080/"
        },
        "outputId": "9c90d09b-bf66-4ed9-ef68-5af9f6a24a2f",
        "id": "cz3YVUPO1_UX"
      },
      "source": [
        "import tensorflow as tf\n",
        "from tensorflow import keras\n",
        "from tensorflow.keras import optimizers\n",
        "from tensorflow.keras.layers import Dense, Flatten, Conv2D, MaxPooling2D, Input, Reshape\n",
        "from tensorflow.keras.metrics import *\n",
        "\n",
        "import time\n",
        "\n",
        "\n",
        "model = keras.Sequential()\n",
        "model.add(Input((28,28)))\n",
        "model.add(Reshape((28,28,1)))\n",
        "model.add(Conv2D(32, (3, 3)))\n",
        "model.add(MaxPooling2D((2, 2)))\n",
        "model.add(Conv2D(64, (3, 3)))\n",
        "model.add(MaxPooling2D((2, 2)))\n",
        "model.add(Flatten())\n",
        "model.add(Dense(10, activation='relu'))\n",
        "model.add(Dense(10, activation='relu'))\n",
        "model.add(Dense(10, activation='softmax'))\n",
        "\n",
        "model.compile(optimizer=\"adam\", loss=\"sparse_categorical_crossentropy\", metrics=[\"accuracy\"])\n",
        "model.summary()\n",
        "\n",
        "\n",
        "hist = model.fit(train_x, train_y, epochs=5, verbose=1, validation_split=0.1, batch_size=128)\n",
        "\n",
        "\n",
        "loss, acc = model.evaluate(test_x, test_y)\n",
        "print(\"loss=\",loss)\n",
        "print(\"acc=\",acc)\n",
        "\n",
        "y_ = model.predict(test_x)\n",
        "predicted = np.argmax(y_, axis=1)\n",
        "\n",
        "print(predicted)\n"
      ],
      "execution_count": 27,
      "outputs": [
        {
          "output_type": "stream",
          "name": "stdout",
          "text": [
            "Model: \"sequential_4\"\n",
            "_________________________________________________________________\n",
            " Layer (type)                Output Shape              Param #   \n",
            "=================================================================\n",
            " reshape_3 (Reshape)         (None, 28, 28, 1)         0         \n",
            "                                                                 \n",
            " conv2d_6 (Conv2D)           (None, 26, 26, 32)        320       \n",
            "                                                                 \n",
            " max_pooling2d_6 (MaxPooling  (None, 13, 13, 32)       0         \n",
            " 2D)                                                             \n",
            "                                                                 \n",
            " conv2d_7 (Conv2D)           (None, 11, 11, 64)        18496     \n",
            "                                                                 \n",
            " max_pooling2d_7 (MaxPooling  (None, 5, 5, 64)         0         \n",
            " 2D)                                                             \n",
            "                                                                 \n",
            " flatten_3 (Flatten)         (None, 1600)              0         \n",
            "                                                                 \n",
            " dense_12 (Dense)            (None, 10)                16010     \n",
            "                                                                 \n",
            " dense_13 (Dense)            (None, 10)                110       \n",
            "                                                                 \n",
            " dense_14 (Dense)            (None, 10)                110       \n",
            "                                                                 \n",
            "=================================================================\n",
            "Total params: 35,046\n",
            "Trainable params: 35,046\n",
            "Non-trainable params: 0\n",
            "_________________________________________________________________\n",
            "Epoch 1/5\n",
            "422/422 [==============================] - 2s 4ms/step - loss: 0.8354 - accuracy: 0.7430 - val_loss: 0.2736 - val_accuracy: 0.9343\n",
            "Epoch 2/5\n",
            "422/422 [==============================] - 2s 4ms/step - loss: 0.1974 - accuracy: 0.9441 - val_loss: 0.1312 - val_accuracy: 0.9622\n",
            "Epoch 3/5\n",
            "422/422 [==============================] - 2s 4ms/step - loss: 0.1222 - accuracy: 0.9645 - val_loss: 0.0934 - val_accuracy: 0.9745\n",
            "Epoch 4/5\n",
            "422/422 [==============================] - 2s 4ms/step - loss: 0.0960 - accuracy: 0.9719 - val_loss: 0.1016 - val_accuracy: 0.9728\n",
            "Epoch 5/5\n",
            "422/422 [==============================] - 2s 4ms/step - loss: 0.0799 - accuracy: 0.9761 - val_loss: 0.0751 - val_accuracy: 0.9787\n",
            "313/313 [==============================] - 1s 3ms/step - loss: 0.0708 - accuracy: 0.9773\n",
            "loss= 0.070823073387146\n",
            "acc= 0.9772999882698059\n",
            "[7 2 1 ... 4 5 6]\n"
          ]
        }
      ]
    },
    {
      "cell_type": "markdown",
      "source": [
        "## ROC 그리기, AUC 출력"
      ],
      "metadata": {
        "id": "K2Jhr9Q81_UX"
      }
    },
    {
      "cell_type": "code",
      "source": [
        "import numpy as np\n",
        "from numpy import interp\n",
        "import matplotlib.pyplot as plt\n",
        "from itertools import cycle\n",
        "from sklearn.metrics import roc_curve, auc\n",
        "\n",
        "def draw_ROC_and_get_AUC(y_test, y_score, n_classes=10):\n",
        "\n",
        "  y_test = np.eye(n_classes)[y_test]\n",
        "  y_score = np.eye(n_classes)[y_score]\n",
        "\n",
        "  # Plot linewidth.\n",
        "  lw = 10\n",
        "\n",
        "  # Compute ROC curve and ROC area for each class\n",
        "  fpr = dict()\n",
        "  tpr = dict()\n",
        "  roc_auc = dict()\n",
        "  for i in range(n_classes):\n",
        "      fpr[i], tpr[i], _ = roc_curve(y_test[:, i], y_score[:, i])\n",
        "      roc_auc[i] = auc(fpr[i], tpr[i])\n",
        "\n",
        "  # Compute micro-average ROC curve and ROC area\n",
        "  fpr[\"micro\"], tpr[\"micro\"], _ = roc_curve(y_test.ravel(), y_score.ravel())\n",
        "  roc_auc[\"micro\"] = auc(fpr[\"micro\"], tpr[\"micro\"])\n",
        "\n",
        "  # Compute macro-average ROC curve and ROC area\n",
        "\n",
        "  # First aggregate all false positive rates\n",
        "  all_fpr = np.unique(np.concatenate([fpr[i] for i in range(n_classes)]))\n",
        "\n",
        "  # Then interpolate all ROC curves at this points\n",
        "  mean_tpr = np.zeros_like(all_fpr)\n",
        "  for i in range(n_classes):\n",
        "      mean_tpr += interp(all_fpr, fpr[i], tpr[i])\n",
        "\n",
        "  # Finally average it and compute AUC\n",
        "  mean_tpr /= n_classes\n",
        "\n",
        "  fpr[\"macro\"] = all_fpr\n",
        "  tpr[\"macro\"] = mean_tpr\n",
        "  roc_auc[\"macro\"] = auc(fpr[\"macro\"], tpr[\"macro\"])\n",
        "\n",
        "  # Plot all ROC curves\n",
        "  plt.figure(1)\n",
        "  plt.plot(fpr[\"macro\"], tpr[\"macro\"],\n",
        "          label='ROC curve (area = {0:0.2f})'\n",
        "                ''.format(roc_auc[\"macro\"]),\n",
        "          color='navy', linestyle=':', linewidth=4)\n",
        "\n",
        "\n",
        "  colors = cycle(['aqua', 'darkorange', 'cornflowerblue'])\n",
        "  for i, color in zip(range(n_classes), colors):\n",
        "      plt.plot(fpr[i], tpr[i], color=color, lw=lw,\n",
        "              label='ROC curve of class {0} (area = {1:0.2f})'\n",
        "              ''.format(i, roc_auc[i]))\n",
        "\n",
        "  plt.plot([0, 1], [0, 1], 'k--', lw=lw)\n",
        "  plt.xlim([0.0, 1.0])\n",
        "  plt.ylim([0.0, 1.05])\n",
        "  plt.xlabel('False Positive Rate')\n",
        "  plt.ylabel('True Positive Rate')\n",
        "  plt.title('Some extension of Receiver operating characteristic to multi-class')\n",
        "  plt.legend(loc=\"lower right\")\n",
        "  plt.show()\n",
        "\n",
        "  return roc_auc[\"macro\"]"
      ],
      "metadata": {
        "id": "7F7S71lVGVvd"
      },
      "execution_count": 60,
      "outputs": []
    },
    {
      "cell_type": "code",
      "source": [
        "test_y = test_y.astype(np.int)"
      ],
      "metadata": {
        "id": "boBMSZ8A9SYN"
      },
      "execution_count": 61,
      "outputs": []
    },
    {
      "cell_type": "code",
      "source": [
        "print(test_y.shape)\n",
        "print(predicted.shape)"
      ],
      "metadata": {
        "colab": {
          "base_uri": "https://localhost:8080/"
        },
        "id": "XFosbIl1Bcpn",
        "outputId": "5da1828d-3518-45c1-c381-18820c7d62d3"
      },
      "execution_count": 62,
      "outputs": [
        {
          "output_type": "stream",
          "name": "stdout",
          "text": [
            "(10000,)\n",
            "(10000,)\n"
          ]
        }
      ]
    },
    {
      "cell_type": "code",
      "source": [
        "auc = draw_ROC_and_get_AUC(test_y, predicted, n_classes=10)\n",
        "print(\"AUC \", auc)"
      ],
      "metadata": {
        "colab": {
          "base_uri": "https://localhost:8080/",
          "height": 314
        },
        "outputId": "d6d01887-b819-412d-a199-36eb29c453d3",
        "id": "dXrDuJzt1_UX"
      },
      "execution_count": 63,
      "outputs": [
        {
          "output_type": "display_data",
          "data": {
            "image/png": "[encoded data removed]",
            "text/plain": [
              "<Figure size 432x288 with 1 Axes>"
            ]
          },
          "metadata": {
            "needs_background": "light"
          }
        },
        {
          "output_type": "stream",
          "name": "stdout",
          "text": [
            "AUC  0.9872800034330507\n"
          ]
        }
      ]
    },
    {
      "cell_type": "markdown",
      "source": [
        "## Confusion Matric"
      ],
      "metadata": {
        "id": "9SVpeZeX3GnK"
      }
    },
    {
      "cell_type": "code",
      "source": [
        "from sklearn.metrics import classification_report\n",
        "from sklearn.metrics import confusion_matrix\n",
        "\n",
        "cm = confusion_matrix(test_y, predicted)\n",
        "print(cm)"
      ],
      "metadata": {
        "colab": {
          "base_uri": "https://localhost:8080/"
        },
        "id": "JpibgvS-1_UX",
        "outputId": "7754a8e5-9e4b-46ac-d4a7-feb804cae670"
      },
      "execution_count": 13,
      "outputs": [
        {
          "output_type": "stream",
          "name": "stdout",
          "text": [
            "[[ 959    0    2    3    0    4    6    2    4    0]\n",
            " [   0 1123    2    0    0    0    4    6    0    0]\n",
            " [   0    1 1009    6    3    0    0   10    2    1]\n",
            " [   0    0    3  972    0   27    0    5    1    2]\n",
            " [   0    5    5    0  950    0    2    2    1   17]\n",
            " [   2    0    2    4    0  881    2    0    0    1]\n",
            " [   4    4    1    0    2   15  930    2    0    0]\n",
            " [   0    1   13    0    1    0    0 1008    0    5]\n",
            " [   2    1    9    4    1   31    0    2  913   11]\n",
            " [   1    1    0   12    5    2    0    6    3  979]]\n"
          ]
        }
      ]
    },
    {
      "cell_type": "code",
      "source": [
        "print(classification_report(test_y, predicted, target_names=['0','1','2','3','4','5','6','7','8','9']))"
      ],
      "metadata": {
        "colab": {
          "base_uri": "https://localhost:8080/"
        },
        "id": "j7MV_iiY2-3z",
        "outputId": "4a3573ba-e326-4873-867d-8a62cda33c09"
      },
      "execution_count": 15,
      "outputs": [
        {
          "output_type": "stream",
          "name": "stdout",
          "text": [
            "              precision    recall  f1-score   support\n",
            "\n",
            "           0       0.99      0.98      0.98       980\n",
            "           1       0.99      0.99      0.99      1135\n",
            "           2       0.96      0.98      0.97      1032\n",
            "           3       0.97      0.96      0.97      1010\n",
            "           4       0.99      0.97      0.98       982\n",
            "           5       0.92      0.99      0.95       892\n",
            "           6       0.99      0.97      0.98       958\n",
            "           7       0.97      0.98      0.97      1028\n",
            "           8       0.99      0.94      0.96       974\n",
            "           9       0.96      0.97      0.97      1009\n",
            "\n",
            "    accuracy                           0.97     10000\n",
            "   macro avg       0.97      0.97      0.97     10000\n",
            "weighted avg       0.97      0.97      0.97     10000\n",
            "\n"
          ]
        }
      ]
    },
    {
      "cell_type": "code",
      "source": [
        "import seaborn as sns\n",
        "\n",
        "figure = plt.figure(figsize=(8, 8))\n",
        "sns.heatmap(cm, annot=True, cmap=plt.cm.Blues)\n",
        "plt.tight_layout()\n",
        "plt.ylabel('True label')\n",
        "plt.xlabel('Predicted label')\n",
        "plt.show()"
      ],
      "metadata": {
        "colab": {
          "base_uri": "https://localhost:8080/",
          "height": 599
        },
        "id": "_4PMa4rb3CpJ",
        "outputId": "6bc6a55d-3b5d-4a76-9917-2b9a31ede1cd"
      },
      "execution_count": 16,
      "outputs": [
        {
          "output_type": "display_data",
          "data": {
            "image/png": "[encoded data removed]",
            "text/plain": [
              "<Figure size 576x576 with 2 Axes>"
            ]
          },
          "metadata": {
            "needs_background": "light"
          }
        }
      ]
    },
    {
      "cell_type": "code",
      "source": [
        ""
      ],
      "metadata": {
        "id": "Q2Lij5UF3E0d"
      },
      "execution_count": null,
      "outputs": []
    }
  ]
}